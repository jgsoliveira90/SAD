{
 "cells": [
  {
   "cell_type": "code",
   "execution_count": 1,
   "metadata": {
    "collapsed": true
   },
   "outputs": [],
   "source": [
    "#João Gabriel\n",
    "#SAD"
   ]
  },
  {
   "cell_type": "code",
   "execution_count": 2,
   "metadata": {
    "collapsed": true
   },
   "outputs": [],
   "source": [
    "import pandas as pd\n",
    "import numpy as np"
   ]
  },
  {
   "cell_type": "code",
   "execution_count": 3,
   "metadata": {
    "collapsed": true
   },
   "outputs": [],
   "source": [
    "df=pd.read_excel('pacotes.xlsx')"
   ]
  },
  {
   "cell_type": "code",
   "execution_count": 4,
   "metadata": {},
   "outputs": [
    {
     "name": "stdout",
     "output_type": "stream",
     "text": [
      "[[1 'carga fragil' 960.0 18.299999999999997 14.6]\n",
      " [1 'carga fragil' 900.0 17.142857142 13.6]\n",
      " [1 'carga fragil' 880.0 15.299999999999999 14.4]\n",
      " [2 'carga especial' 430.0 71.4 9.4]\n",
      " [2 'carga especial' 420.0 12.857142858 9.2]\n",
      " [2 'carga especial' 400.0 90.36 8.6]\n",
      " [2 'carga especial' 400.0 63.300000000000004 8.6]\n",
      " [2 'carga especial' 380.0 90.36 8.0]\n",
      " [1 'carga fragil' 890.0 8.399999999999999 15.6]\n",
      " [1 'carga fragil' 860.0 15.299999999999999 14.0]\n",
      " [1 'carga fragil' 830.0 63.300000000000004 14.6]\n",
      " [1 'carga fragil' 860.0 8.399999999999999 15.2]\n",
      " [1 'carga fragil' 770.0 15.0 14.2]\n",
      " [1 'carga fragil' 820.0 41.7 15.4]\n",
      " [1 'carga fragil' 760.0 51.33 14.6]\n",
      " [1 'carga fragil' 780.0 27.36 14.2]\n",
      " [1 'carga fragil' 780.0 51.33 15.0]\n",
      " [1 'carga fragil' 840.0 78.30000000000001 15.2]\n",
      " [1 'carga fragil' 810.0 78.30000000000001 14.2]\n",
      " [1 'carga fragil' 810.0 15.299999999999999 14.4]\n",
      " [1 'carga fragil' 800.0 78.30000000000001 15.0]\n",
      " [1 'carga fragil' 780.0 15.299999999999999 14.8]\n",
      " [2 'carga especial' 402.5 93.36 8.6]\n",
      " [2 'carga especial' 402.5 66.30000000000001 8.6]\n",
      " [2 'carga especial' 382.5 93.36 8.0]\n",
      " [1 'carga fragil' 700.0 41.7 14.2]\n",
      " [1 'carga fragil' 850.0 51.33 15.8]\n",
      " [3 'carga normal' 1710.0 19.285714286999998 18.8]\n",
      " [3 'carga normal' 1780.0 77.4 18.4]\n",
      " [3 'carga normal' 1810.0 57.33 18.4]\n",
      " [3 'carga normal' 1020.0 78.30000000000001 18.4]\n",
      " [3 'carga normal' 700.0 24.36 14.2]\n",
      " [3 'carga normal' 800.0 15.0 14.8]\n",
      " [3 'carga normal' 790.0 8.399999999999999 15.0]\n",
      " [3 'carga normal' 1050.0 93.36 16.0]\n",
      " [3 'carga normal' 820.0 74.4 14.0]\n",
      " [3 'carga normal' 950.0 78.30000000000001 16.2]\n",
      " [3 'carga normal' 710.0 51.33 15.6]\n",
      " [3 'carga normal' 750.0 8.399999999999999 15.8]\n",
      " [3 'carga normal' 800.0 8.399999999999999 15.2]\n",
      " [3 'carga normal' 770.0 41.7 14.6]\n",
      " [3 'carga normal' 790.0 74.4 15.6]\n",
      " [3 'carga normal' 720.0 90.36 14.8]\n",
      " [3 'carga normal' 770.0 8.399999999999999 15.0]\n",
      " [3 'carga normal' 900.0 51.33 16.4]\n",
      " [3 'carga normal' 770.0 74.4 14.4]\n",
      " [4 'carga secreta' 970.0 74.4 20.6]\n",
      " [4 'carga secreta' 1000.0 41.7 21.0]\n",
      " [4 'carga secreta' 930.0 74.4 18.4]\n",
      " [4 'carga secreta' 1080.0 41.7 20.4]\n",
      " [4 'carga secreta' 980.0 41.7 19.4]\n",
      " [4 'carga secreta' 870.0 41.7 20.2]\n",
      " [4 'carga secreta' 660.0 90.36 17.4]\n",
      " [4 'carga secreta' 650.0 12.857142858 16.4]\n",
      " [4 'carga secreta' 580.0 12.857142858 15.0]\n",
      " [4 'carga secreta' 590.0 63.300000000000004 16.0]\n",
      " [4 'carga secreta' 600.0 12.857142858 16.8]\n",
      " [4 'carga secreta' 580.0 5.4 17.0]\n",
      " [4 'carga secreta' 580.0 38.7 15.4]\n",
      " [4 'carga secreta' 580.0 63.300000000000004 16.2]\n",
      " [4 'carga secreta' 760.0 78.30000000000001 17.0]\n",
      " [4 'carga secreta' 590.0 5.4 16.2]]\n"
     ]
    }
   ],
   "source": [
    "print(df.values)"
   ]
  },
  {
   "cell_type": "code",
   "execution_count": 5,
   "metadata": {
    "collapsed": true
   },
   "outputs": [],
   "source": [
    "#features = colunas\n",
    "# 5 colunas"
   ]
  },
  {
   "cell_type": "code",
   "execution_count": 6,
   "metadata": {
    "collapsed": true
   },
   "outputs": [],
   "source": [
    "#Observações = Row = Linhas\n",
    "# Numero de linhas: 62"
   ]
  },
  {
   "cell_type": "code",
   "execution_count": null,
   "metadata": {
    "collapsed": true
   },
   "outputs": [],
   "source": []
  }
 ],
 "metadata": {
  "kernelspec": {
   "display_name": "Python 3",
   "language": "python",
   "name": "python3"
  },
  "language_info": {
   "codemirror_mode": {
    "name": "ipython",
    "version": 3
   },
   "file_extension": ".py",
   "mimetype": "text/x-python",
   "name": "python",
   "nbconvert_exporter": "python",
   "pygments_lexer": "ipython3",
   "version": "3.5.3"
  }
 },
 "nbformat": 4,
 "nbformat_minor": 2
}
